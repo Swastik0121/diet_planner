{
 "cells": [
  {
   "cell_type": "code",
   "execution_count": 1,
   "id": "4d80de87",
   "metadata": {
    "scrolled": true
   },
   "outputs": [
    {
     "name": "stdout",
     "output_type": "stream",
     "text": [
      "Collecting openai\n",
      "  Downloading openai-1.35.5-py3-none-any.whl (327 kB)\n",
      "Collecting httpx<1,>=0.23.0\n",
      "  Downloading httpx-0.27.0-py3-none-any.whl (75 kB)\n",
      "Requirement already satisfied: typing-extensions<5,>=4.7 in c:\\users\\attav_yg8iw2r\\anaconda3\\lib\\site-packages (from openai) (4.8.0)\n",
      "Requirement already satisfied: sniffio in c:\\users\\attav_yg8iw2r\\anaconda3\\lib\\site-packages (from openai) (1.2.0)\n",
      "Collecting anyio<5,>=3.5.0\n",
      "  Downloading anyio-4.4.0-py3-none-any.whl (86 kB)\n",
      "Collecting distro<2,>=1.7.0\n",
      "  Downloading distro-1.9.0-py3-none-any.whl (20 kB)\n",
      "Requirement already satisfied: tqdm>4 in c:\\users\\attav_yg8iw2r\\anaconda3\\lib\\site-packages (from openai) (4.62.3)\n",
      "Collecting pydantic<3,>=1.9.0\n",
      "  Downloading pydantic-2.7.4-py3-none-any.whl (409 kB)\n",
      "Requirement already satisfied: idna>=2.8 in c:\\users\\attav_yg8iw2r\\anaconda3\\lib\\site-packages (from anyio<5,>=3.5.0->openai) (3.4)\n",
      "Collecting exceptiongroup>=1.0.2\n",
      "  Downloading exceptiongroup-1.2.1-py3-none-any.whl (16 kB)\n",
      "Collecting httpcore==1.*\n",
      "  Downloading httpcore-1.0.5-py3-none-any.whl (77 kB)\n",
      "Requirement already satisfied: certifi in c:\\users\\attav_yg8iw2r\\anaconda3\\lib\\site-packages (from httpx<1,>=0.23.0->openai) (2022.12.7)\n",
      "Collecting h11<0.15,>=0.13\n",
      "  Using cached h11-0.14.0-py3-none-any.whl (58 kB)\n",
      "Collecting pydantic-core==2.18.4\n",
      "  Downloading pydantic_core-2.18.4-cp39-none-win_amd64.whl (1.9 MB)\n",
      "Collecting annotated-types>=0.4.0\n",
      "Note: you may need to restart the kernel to use updated packages.  Downloading annotated_types-0.7.0-py3-none-any.whl (13 kB)\n",
      "Requirement already satisfied: colorama in c:\\users\\attav_yg8iw2r\\anaconda3\\lib\\site-packages (from tqdm>4->openai) (0.4.4)\n",
      "\n",
      "Installing collected packages: h11, exceptiongroup, pydantic-core, httpcore, anyio, annotated-types, pydantic, httpx, distro, openai\n",
      "  Attempting uninstall: anyio\n",
      "    Found existing installation: anyio 2.2.0\n",
      "    Uninstalling anyio-2.2.0:\n",
      "      Successfully uninstalled anyio-2.2.0\n",
      "Successfully installed annotated-types-0.7.0 anyio-4.4.0 distro-1.9.0 exceptiongroup-1.2.1 h11-0.14.0 httpcore-1.0.5 httpx-0.27.0 openai-1.35.5 pydantic-2.7.4 pydantic-core-2.18.4\n"
     ]
    }
   ],
   "source": [
    "pip install openai"
   ]
  },
  {
   "cell_type": "code",
   "execution_count": 2,
   "id": "8f069cfa",
   "metadata": {
    "scrolled": true
   },
   "outputs": [
    {
     "name": "stdout",
     "output_type": "stream",
     "text": [
      "Collecting langchain\n",
      "  Downloading langchain-0.2.6-py3-none-any.whl (975 kB)\n",
      "Requirement already satisfied: SQLAlchemy<3,>=1.4 in c:\\users\\attav_yg8iw2r\\anaconda3\\lib\\site-packages (from langchain) (1.4.22)\n",
      "Collecting langchain-text-splitters<0.3.0,>=0.2.0\n",
      "  Downloading langchain_text_splitters-0.2.2-py3-none-any.whl (25 kB)\n",
      "Requirement already satisfied: requests<3,>=2 in c:\\users\\attav_yg8iw2r\\anaconda3\\lib\\site-packages (from langchain) (2.26.0)\n",
      "Requirement already satisfied: async-timeout<5.0.0,>=4.0.0 in c:\\users\\attav_yg8iw2r\\anaconda3\\lib\\site-packages (from langchain) (4.0.3)\n",
      "Requirement already satisfied: aiohttp<4.0.0,>=3.8.3 in c:\\users\\attav_yg8iw2r\\anaconda3\\lib\\site-packages (from langchain) (3.9.5)\n",
      "Requirement already satisfied: pydantic<3,>=1 in c:\\users\\attav_yg8iw2r\\anaconda3\\lib\\site-packages (from langchain) (2.7.4)\n",
      "Requirement already satisfied: numpy<2,>=1 in c:\\users\\attav_yg8iw2r\\anaconda3\\lib\\site-packages (from langchain) (1.20.3)\n",
      "Collecting langchain-core<0.3.0,>=0.2.10\n",
      "  Downloading langchain_core-0.2.10-py3-none-any.whl (332 kB)\n",
      "Requirement already satisfied: tenacity!=8.4.0,<9.0.0,>=8.1.0 in c:\\users\\attav_yg8iw2r\\anaconda3\\lib\\site-packages (from langchain) (8.2.1)\n",
      "Collecting langsmith<0.2.0,>=0.1.17\n",
      "  Downloading langsmith-0.1.82-py3-none-any.whl (127 kB)\n",
      "Requirement already satisfied: PyYAML>=5.3 in c:\\users\\attav_yg8iw2r\\anaconda3\\lib\\site-packages (from langchain) (6.0)\n",
      "Requirement already satisfied: multidict<7.0,>=4.5 in c:\\users\\attav_yg8iw2r\\anaconda3\\lib\\site-packages (from aiohttp<4.0.0,>=3.8.3->langchain) (6.0.5)\n",
      "Requirement already satisfied: yarl<2.0,>=1.0 in c:\\users\\attav_yg8iw2r\\anaconda3\\lib\\site-packages (from aiohttp<4.0.0,>=3.8.3->langchain) (1.9.4)\n",
      "Requirement already satisfied: attrs>=17.3.0 in c:\\users\\attav_yg8iw2r\\anaconda3\\lib\\site-packages (from aiohttp<4.0.0,>=3.8.3->langchain) (21.2.0)\n",
      "Requirement already satisfied: aiosignal>=1.1.2 in c:\\users\\attav_yg8iw2r\\anaconda3\\lib\\site-packages (from aiohttp<4.0.0,>=3.8.3->langchain) (1.3.1)\n",
      "Requirement already satisfied: frozenlist>=1.1.1 in c:\\users\\attav_yg8iw2r\\anaconda3\\lib\\site-packages (from aiohttp<4.0.0,>=3.8.3->langchain) (1.4.1)\n",
      "Collecting packaging<25,>=23.2\n",
      "  Downloading packaging-24.1-py3-none-any.whl (53 kB)\n",
      "Collecting jsonpatch<2.0,>=1.33\n",
      "  Downloading jsonpatch-1.33-py2.py3-none-any.whl (12 kB)\n",
      "Collecting jsonpointer>=1.9\n",
      "  Downloading jsonpointer-3.0.0-py2.py3-none-any.whl (7.6 kB)\n",
      "Collecting orjson<4.0.0,>=3.9.14\n",
      "  Downloading orjson-3.10.5-cp39-none-win_amd64.whl (141 kB)\n",
      "Requirement already satisfied: pydantic-core==2.18.4 in c:\\users\\attav_yg8iw2r\\anaconda3\\lib\\site-packages (from pydantic<3,>=1->langchain) (2.18.4)\n",
      "Requirement already satisfied: annotated-types>=0.4.0 in c:\\users\\attav_yg8iw2r\\anaconda3\\lib\\site-packages (from pydantic<3,>=1->langchain) (0.7.0)\n",
      "Requirement already satisfied: typing-extensions>=4.6.1 in c:\\users\\attav_yg8iw2r\\anaconda3\\lib\\site-packages (from pydantic<3,>=1->langchain) (4.8.0)\n",
      "Requirement already satisfied: charset-normalizer~=2.0.0 in c:\\users\\attav_yg8iw2r\\anaconda3\\lib\\site-packages (from requests<3,>=2->langchain) (2.0.4)\n",
      "Requirement already satisfied: idna<4,>=2.5 in c:\\users\\attav_yg8iw2r\\anaconda3\\lib\\site-packages (from requests<3,>=2->langchain) (3.4)\n",
      "Requirement already satisfied: urllib3<1.27,>=1.21.1 in c:\\users\\attav_yg8iw2r\\anaconda3\\lib\\site-packages (from requests<3,>=2->langchain) (1.26.7)\n",
      "Requirement already satisfied: certifi>=2017.4.17 in c:\\users\\attav_yg8iw2r\\anaconda3\\lib\\site-packages (from requests<3,>=2->langchain) (2022.12.7)\n",
      "Requirement already satisfied: greenlet!=0.4.17 in c:\\users\\attav_yg8iw2r\\anaconda3\\lib\\site-packages (from SQLAlchemy<3,>=1.4->langchain) (1.1.1)\n",
      "Installing collected packages: orjson, jsonpointer, packaging, langsmith, jsonpatch, langchain-core, langchain-text-splitters, langchain\n",
      "  Attempting uninstall: packaging\n",
      "    Found existing installation: packaging 21.0Note: you may need to restart the kernel to use updated packages.\n",
      "    Uninstalling packaging-21.0:\n",
      "      Successfully uninstalled packaging-21.0\n",
      "Successfully installed jsonpatch-1.33 jsonpointer-3.0.0 langchain-0.2.6 langchain-core-0.2.10 langchain-text-splitters-0.2.2 langsmith-0.1.82 orjson-3.10.5 packaging-24.1\n",
      "\n"
     ]
    },
    {
     "name": "stderr",
     "output_type": "stream",
     "text": [
      "ERROR: pip's dependency resolver does not currently take into account all the packages that are installed. This behaviour is the source of the following dependency conflicts.\n",
      "tensorflow 2.9.1 requires keras<2.10.0,>=2.9.0rc0, but you have keras 2.8.0 which is incompatible.\n"
     ]
    }
   ],
   "source": [
    "pip install langchain"
   ]
  },
  {
   "cell_type": "code",
   "execution_count": 4,
   "id": "c6062448",
   "metadata": {
    "scrolled": true
   },
   "outputs": [
    {
     "name": "stdout",
     "output_type": "stream",
     "text": [
      "Collecting langchain_community\n",
      "  Downloading langchain_community-0.2.6-py3-none-any.whl (2.2 MB)\n",
      "Note: you may need to restart the kernel to use updated packages.Requirement already satisfied: aiohttp<4.0.0,>=3.8.3 in c:\\users\\attav_yg8iw2r\\anaconda3\\lib\\site-packages (from langchain_community) (3.9.5)\n",
      "Requirement already satisfied: PyYAML>=5.3 in c:\\users\\attav_yg8iw2r\\anaconda3\\lib\\site-packages (from langchain_community) (6.0)\n",
      "Requirement already satisfied: langchain<0.3.0,>=0.2.6 in c:\\users\\attav_yg8iw2r\\anaconda3\\lib\\site-packages (from langchain_community) (0.2.6)\n",
      "\n",
      "Requirement already satisfied: langchain-core<0.3.0,>=0.2.10 in c:\\users\\attav_yg8iw2r\\anaconda3\\lib\\site-packages (from langchain_community) (0.2.10)\n",
      "Requirement already satisfied: numpy<2,>=1 in c:\\users\\attav_yg8iw2r\\anaconda3\\lib\\site-packages (from langchain_community) (1.20.3)\n",
      "Collecting dataclasses-json<0.7,>=0.5.7\n",
      "  Downloading dataclasses_json-0.6.7-py3-none-any.whl (28 kB)\n",
      "Requirement already satisfied: SQLAlchemy<3,>=1.4 in c:\\users\\attav_yg8iw2r\\anaconda3\\lib\\site-packages (from langchain_community) (1.4.22)\n",
      "Requirement already satisfied: tenacity!=8.4.0,<9.0.0,>=8.1.0 in c:\\users\\attav_yg8iw2r\\anaconda3\\lib\\site-packages (from langchain_community) (8.2.1)\n",
      "Requirement already satisfied: requests<3,>=2 in c:\\users\\attav_yg8iw2r\\anaconda3\\lib\\site-packages (from langchain_community) (2.26.0)\n",
      "Requirement already satisfied: langsmith<0.2.0,>=0.1.0 in c:\\users\\attav_yg8iw2r\\anaconda3\\lib\\site-packages (from langchain_community) (0.1.82)\n",
      "Requirement already satisfied: frozenlist>=1.1.1 in c:\\users\\attav_yg8iw2r\\anaconda3\\lib\\site-packages (from aiohttp<4.0.0,>=3.8.3->langchain_community) (1.4.1)\n",
      "Requirement already satisfied: multidict<7.0,>=4.5 in c:\\users\\attav_yg8iw2r\\anaconda3\\lib\\site-packages (from aiohttp<4.0.0,>=3.8.3->langchain_community) (6.0.5)\n",
      "Requirement already satisfied: attrs>=17.3.0 in c:\\users\\attav_yg8iw2r\\anaconda3\\lib\\site-packages (from aiohttp<4.0.0,>=3.8.3->langchain_community) (21.2.0)\n",
      "Requirement already satisfied: yarl<2.0,>=1.0 in c:\\users\\attav_yg8iw2r\\anaconda3\\lib\\site-packages (from aiohttp<4.0.0,>=3.8.3->langchain_community) (1.9.4)\n",
      "Requirement already satisfied: async-timeout<5.0,>=4.0 in c:\\users\\attav_yg8iw2r\\anaconda3\\lib\\site-packages (from aiohttp<4.0.0,>=3.8.3->langchain_community) (4.0.3)\n",
      "Requirement already satisfied: aiosignal>=1.1.2 in c:\\users\\attav_yg8iw2r\\anaconda3\\lib\\site-packages (from aiohttp<4.0.0,>=3.8.3->langchain_community) (1.3.1)\n",
      "Collecting typing-inspect<1,>=0.4.0\n",
      "  Downloading typing_inspect-0.9.0-py3-none-any.whl (8.8 kB)\n",
      "Collecting marshmallow<4.0.0,>=3.18.0\n",
      "  Downloading marshmallow-3.21.3-py3-none-any.whl (49 kB)\n",
      "Requirement already satisfied: langchain-text-splitters<0.3.0,>=0.2.0 in c:\\users\\attav_yg8iw2r\\anaconda3\\lib\\site-packages (from langchain<0.3.0,>=0.2.6->langchain_community) (0.2.2)\n",
      "Requirement already satisfied: pydantic<3,>=1 in c:\\users\\attav_yg8iw2r\\anaconda3\\lib\\site-packages (from langchain<0.3.0,>=0.2.6->langchain_community) (2.7.4)\n",
      "Requirement already satisfied: packaging<25,>=23.2 in c:\\users\\attav_yg8iw2r\\anaconda3\\lib\\site-packages (from langchain-core<0.3.0,>=0.2.10->langchain_community) (24.1)\n",
      "Requirement already satisfied: jsonpatch<2.0,>=1.33 in c:\\users\\attav_yg8iw2r\\anaconda3\\lib\\site-packages (from langchain-core<0.3.0,>=0.2.10->langchain_community) (1.33)\n",
      "Requirement already satisfied: jsonpointer>=1.9 in c:\\users\\attav_yg8iw2r\\anaconda3\\lib\\site-packages (from jsonpatch<2.0,>=1.33->langchain-core<0.3.0,>=0.2.10->langchain_community) (3.0.0)\n",
      "Requirement already satisfied: orjson<4.0.0,>=3.9.14 in c:\\users\\attav_yg8iw2r\\anaconda3\\lib\\site-packages (from langsmith<0.2.0,>=0.1.0->langchain_community) (3.10.5)\n",
      "Requirement already satisfied: pydantic-core==2.18.4 in c:\\users\\attav_yg8iw2r\\anaconda3\\lib\\site-packages (from pydantic<3,>=1->langchain<0.3.0,>=0.2.6->langchain_community) (2.18.4)\n",
      "Requirement already satisfied: annotated-types>=0.4.0 in c:\\users\\attav_yg8iw2r\\anaconda3\\lib\\site-packages (from pydantic<3,>=1->langchain<0.3.0,>=0.2.6->langchain_community) (0.7.0)\n",
      "Requirement already satisfied: typing-extensions>=4.6.1 in c:\\users\\attav_yg8iw2r\\anaconda3\\lib\\site-packages (from pydantic<3,>=1->langchain<0.3.0,>=0.2.6->langchain_community) (4.8.0)\n",
      "Requirement already satisfied: certifi>=2017.4.17 in c:\\users\\attav_yg8iw2r\\anaconda3\\lib\\site-packages (from requests<3,>=2->langchain_community) (2022.12.7)\n",
      "Requirement already satisfied: charset-normalizer~=2.0.0 in c:\\users\\attav_yg8iw2r\\anaconda3\\lib\\site-packages (from requests<3,>=2->langchain_community) (2.0.4)\n",
      "Requirement already satisfied: urllib3<1.27,>=1.21.1 in c:\\users\\attav_yg8iw2r\\anaconda3\\lib\\site-packages (from requests<3,>=2->langchain_community) (1.26.7)\n",
      "Requirement already satisfied: idna<4,>=2.5 in c:\\users\\attav_yg8iw2r\\anaconda3\\lib\\site-packages (from requests<3,>=2->langchain_community) (3.4)\n",
      "Requirement already satisfied: greenlet!=0.4.17 in c:\\users\\attav_yg8iw2r\\anaconda3\\lib\\site-packages (from SQLAlchemy<3,>=1.4->langchain_community) (1.1.1)\n",
      "Requirement already satisfied: mypy-extensions>=0.3.0 in c:\\users\\attav_yg8iw2r\\anaconda3\\lib\\site-packages (from typing-inspect<1,>=0.4.0->dataclasses-json<0.7,>=0.5.7->langchain_community) (0.4.3)\n",
      "Installing collected packages: typing-inspect, marshmallow, dataclasses-json, langchain-community\n",
      "Successfully installed dataclasses-json-0.6.7 langchain-community-0.2.6 marshmallow-3.21.3 typing-inspect-0.9.0\n"
     ]
    }
   ],
   "source": [
    "pip install langchain_community"
   ]
  },
  {
   "cell_type": "code",
   "execution_count": 9,
   "id": "7c25f950",
   "metadata": {
    "scrolled": true
   },
   "outputs": [
    {
     "name": "stdout",
     "output_type": "stream",
     "text": [
      "Collecting langchain_groq\n",
      "  Downloading langchain_groq-0.1.5-py3-none-any.whl (11 kB)\n",
      "Requirement already satisfied: langchain-core<0.3,>=0.1.45 in c:\\users\\attav_yg8iw2r\\anaconda3\\lib\\site-packages (from langchain_groq) (0.2.10)\n",
      "Collecting groq<1,>=0.4.1\n",
      "  Downloading groq-0.9.0-py3-none-any.whl (103 kB)\n",
      "Requirement already satisfied: pydantic<3,>=1.9.0 in c:\\users\\attav_yg8iw2r\\anaconda3\\lib\\site-packages (from groq<1,>=0.4.1->langchain_groq) (2.7.4)\n",
      "Requirement already satisfied: httpx<1,>=0.23.0 in c:\\users\\attav_yg8iw2r\\anaconda3\\lib\\site-packages (from groq<1,>=0.4.1->langchain_groq) (0.27.0)\n",
      "Requirement already satisfied: anyio<5,>=3.5.0 in c:\\users\\attav_yg8iw2r\\anaconda3\\lib\\site-packages (from groq<1,>=0.4.1->langchain_groq) (4.4.0)\n",
      "Requirement already satisfied: sniffio in c:\\users\\attav_yg8iw2r\\anaconda3\\lib\\site-packages (from groq<1,>=0.4.1->langchain_groq) (1.2.0)\n",
      "Requirement already satisfied: typing-extensions<5,>=4.7 in c:\\users\\attav_yg8iw2r\\anaconda3\\lib\\site-packages (from groq<1,>=0.4.1->langchain_groq) (4.8.0)\n",
      "Requirement already satisfied: distro<2,>=1.7.0 in c:\\users\\attav_yg8iw2r\\anaconda3\\lib\\site-packages (from groq<1,>=0.4.1->langchain_groq) (1.9.0)\n",
      "Requirement already satisfied: exceptiongroup>=1.0.2 in c:\\users\\attav_yg8iw2r\\anaconda3\\lib\\site-packages (from anyio<5,>=3.5.0->groq<1,>=0.4.1->langchain_groq) (1.2.1)\n",
      "Requirement already satisfied: idna>=2.8 in c:\\users\\attav_yg8iw2r\\anaconda3\\lib\\site-packages (from anyio<5,>=3.5.0->groq<1,>=0.4.1->langchain_groq) (3.4)\n",
      "Requirement already satisfied: httpcore==1.* in c:\\users\\attav_yg8iw2r\\anaconda3\\lib\\site-packages (from httpx<1,>=0.23.0->groq<1,>=0.4.1->langchain_groq) (1.0.5)\n",
      "Requirement already satisfied: certifi in c:\\users\\attav_yg8iw2r\\anaconda3\\lib\\site-packages (from httpx<1,>=0.23.0->groq<1,>=0.4.1->langchain_groq) (2022.12.7)\n",
      "Requirement already satisfied: h11<0.15,>=0.13 in c:\\users\\attav_yg8iw2r\\anaconda3\\lib\\site-packages (from httpcore==1.*->httpx<1,>=0.23.0->groq<1,>=0.4.1->langchain_groq) (0.14.0)\n",
      "Requirement already satisfied: jsonpatch<2.0,>=1.33 in c:\\users\\attav_yg8iw2r\\anaconda3\\lib\\site-packages (from langchain-core<0.3,>=0.1.45->langchain_groq) (1.33)\n",
      "Requirement already satisfied: packaging<25,>=23.2 in c:\\users\\attav_yg8iw2r\\anaconda3\\lib\\site-packages (from langchain-core<0.3,>=0.1.45->langchain_groq) (24.1)\n",
      "Requirement already satisfied: PyYAML>=5.3 in c:\\users\\attav_yg8iw2r\\anaconda3\\lib\\site-packages (from langchain-core<0.3,>=0.1.45->langchain_groq) (6.0)\n",
      "Requirement already satisfied: langsmith<0.2.0,>=0.1.75 in c:\\users\\attav_yg8iw2r\\anaconda3\\lib\\site-packages (from langchain-core<0.3,>=0.1.45->langchain_groq) (0.1.82)\n",
      "Requirement already satisfied: tenacity!=8.4.0,<9.0.0,>=8.1.0 in c:\\users\\attav_yg8iw2r\\anaconda3\\lib\\site-packages (from langchain-core<0.3,>=0.1.45->langchain_groq) (8.2.1)\n",
      "Requirement already satisfied: jsonpointer>=1.9 in c:\\users\\attav_yg8iw2r\\anaconda3\\lib\\site-packages (from jsonpatch<2.0,>=1.33->langchain-core<0.3,>=0.1.45->langchain_groq) (3.0.0)\n",
      "Requirement already satisfied: orjson<4.0.0,>=3.9.14 in c:\\users\\attav_yg8iw2r\\anaconda3\\lib\\site-packages (from langsmith<0.2.0,>=0.1.75->langchain-core<0.3,>=0.1.45->langchain_groq) (3.10.5)\n",
      "Requirement already satisfied: requests<3,>=2 in c:\\users\\attav_yg8iw2r\\anaconda3\\lib\\site-packages (from langsmith<0.2.0,>=0.1.75->langchain-core<0.3,>=0.1.45->langchain_groq) (2.26.0)\n",
      "Requirement already satisfied: annotated-types>=0.4.0 in c:\\users\\attav_yg8iw2r\\anaconda3\\lib\\site-packages (from pydantic<3,>=1.9.0->groq<1,>=0.4.1->langchain_groq) (0.7.0)\n",
      "Requirement already satisfied: pydantic-core==2.18.4 in c:\\users\\attav_yg8iw2r\\anaconda3\\lib\\site-packages (from pydantic<3,>=1.9.0->groq<1,>=0.4.1->langchain_groq) (2.18.4)\n",
      "Requirement already satisfied: urllib3<1.27,>=1.21.1 in c:\\users\\attav_yg8iw2r\\anaconda3\\lib\\site-packages (from requests<3,>=2->langsmith<0.2.0,>=0.1.75->langchain-core<0.3,>=0.1.45->langchain_groq) (1.26.7)\n",
      "Requirement already satisfied: charset-normalizer~=2.0.0 in c:\\users\\attav_yg8iw2r\\anaconda3\\lib\\site-packages (from requests<3,>=2->langsmith<0.2.0,>=0.1.75->langchain-core<0.3,>=0.1.45->langchain_groq) (2.0.4)\n",
      "Installing collected packages: groq, langchain-groq\n",
      "Successfully installed groq-0.9.0 langchain-groq-0.1.5\n",
      "Note: you may need to restart the kernel to use updated packages.\n"
     ]
    }
   ],
   "source": [
    "pip install langchain_groq"
   ]
  },
  {
   "cell_type": "code",
   "execution_count": 12,
   "id": "9f998eb9",
   "metadata": {},
   "outputs": [],
   "source": [
    "import os\n",
    "import re\n",
    "groq_api_key = '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' # apenai\n",
    "\n",
    "from langchain.prompts import PromptTemplate\n",
    "from langchain_groq import ChatGroq\n",
    "from langchain.chains import LLMChain"
   ]
  },
  {
   "cell_type": "code",
   "execution_count": 15,
   "id": "6181f863",
   "metadata": {},
   "outputs": [],
   "source": [
    "\n",
    "\n",
    "llm_diet_planner = ChatGroq(groq_api_key=groq_api_key, model_name='mixtral-8x7b-32768')\n",
    "prompt_template_diet_planner = PromptTemplate(\n",
    "    input_variables=['age', 'gender', 'weight', 'height', 'veg_or_nonveg', 'disease', 'region', 'allergics', 'foodtype','physical_activity'],\n",
    "    template=\"Diet Recommendation System:\\n\"\n",
    "             \"I want you to recommend 5 breakfast names, 5 lunch names, 5 dinner names and 6 workout names, \"\n",
    "             \"based on the following criteria:\\n\"\n",
    "             \"Person age: {age}\\n\"\n",
    "             \"Person gender: {gender}\\n\"\n",
    "             \"Person weight: {weight}\\n\"\n",
    "             \"Person height: {height}\\n\"\n",
    "             \"Person veg_or_nonveg: {veg_or_nonveg}\\n\"\n",
    "             \"Person generic disease: {disease}\\n\"\n",
    "             \"Person region: {region}\\n\"\n",
    "             \"Person allergics: {allergics}\\n\"\n",
    "             \"Person foodtype: {foodtype}.\"\n",
    "             \"Person level of physical activity: {physical_activity}.\"\n",
    ")\n",
    "\n",
    "chain_resto = LLMChain(llm=llm_diet_planner, prompt=prompt_template_diet_planner)\n",
    "\n",
    "# Define the input dictionary\n",
    "input_data = {\n",
    "    'age': 60,\n",
    "    'gender': 'male',\n",
    "    'weight': 120,\n",
    "    'height': 5,\n",
    "    'veg_or_nonveg': 'veg',\n",
    "    'disease': 'aneamia',\n",
    "    'region': 'Pakistan',\n",
    "    'allergics': 'Latex Allergy',\n",
    "    'foodtype': 'Fruits',\n",
    "    'physical_activity': 'High'\n",
    "}\n",
    "\n",
    "results = chain_resto.run(input_data)"
   ]
  },
  {
   "cell_type": "code",
   "execution_count": 22,
   "id": "04c0fac8",
   "metadata": {},
   "outputs": [
    {
     "name": "stdout",
     "output_type": "stream",
     "text": [
      "Recommended Breakfasts: ['1. Spinach and berry smoothie - Spinach is high in iron, which can help with anemia, and berries are packed with antioxidants.', '2. Oatmeal with sliced bananas and chia seeds - Oats are a good source of fiber, and bananas and chia seeds provide potassium and omega-3 fatty acids.', '3. Whole grain toast with avocado and tomato - Whole grains provide fiber and complex carbohydrates, while avocado and tomato offer healthy fats and vitamins.', '4. Quinoa porridge with almond milk and dried fruit - Quinoa is a complete protein, and almond milk and dried fruit provide calcium and antioxidants.', '5. Chickpea and vegetable stir-fry - Chickpeas are a good source of protein and fiber, and vegetables provide a range of vitamins and minerals.']\n",
      "Recommended Lunchs: ['1. Lentil soup with whole grain bread - Lentils are high in iron and protein, and whole grain bread provides fiber and complex carbohydrates.', '2. Roasted vegetable and hummus wrap - Roasted vegetables and hummus offer a range of vitamins, minerals, and healthy fats.', '3. Stuffed bell peppers with quinoa and black beans - Bell peppers are high in vitamin C, and quinoa and black beans provide protein and fiber.', '4. Chickpea salad with tomato, cucumber, and lemon-tahini dressing - Chickpeas provide protein and fiber, and the vegetables offer a range of vitamins and minerals.', '5. Vegetable stir-fry with tofu and brown rice - Tofu is a good source of protein and calcium, and brown rice provides fiber and complex carbohydrates.']\n",
      "Recommended Dinners: ['1. Stuffed eggplant with quinoa, tomato, and chickpeas - Eggplant is high in fiber and antioxidants, and quinoa, tomato, and chickpeas provide a range of vitamins, minerals, and protein.', '2. Spinach and mushroom risotto - Spinach is high in iron, and mushrooms provide a range of vitamins and minerals.', '3. Lentil and vegetable curry with brown rice - Lentils are high in iron and protein, and brown rice provides fiber and complex carbohydrates.', '4. Baked sweet potato with black beans, corn, and avocado - Sweet potatoes are high in vitamin A and fiber, and black beans, corn, and avocado offer a range of vitamins, minerals, and healthy fats.', '5. Grilled vegetable skewers with quinoa and lemon-tahini sauce - Grilled vegetables offer a range of vitamins and minerals, and quinoa provides protein and fiber.']\n",
      "Recommended Workouts: ['1. High-intensity interval training (HIIT) - This involves short bursts of intense exercise followed by brief periods of rest, and can be modified for any fitness level.', '2. Strength training - This involves using weights or resistance bands to build muscle and improve overall strength.', '3. Yoga - This involves a series of poses and breathing exercises that can improve flexibility, balance, and mental clarity.', '4. Pilates - This involves a series of low-impact exercises that focus on core strength and flexibility.', '5. Zumba - This involves a high-energy dance workout that can improve cardiovascular health and overall fitness.', '6. Walking or running - This is a low-impact exercise that can be modified for any fitness level and can be done outdoors or on a treadmill.']\n"
     ]
    }
   ],
   "source": [
    "# Extracting the different recommendations using regular expressions\n",
    "breakfast_names = re.findall(r'Breakfast:(.*?)Lunch:', results, re.DOTALL)\n",
    "lunch_names = re.findall(r'Lunch:(.*?)Dinner:', results, re.DOTALL)\n",
    "dinner_names = re.findall(r'Dinner:(.*?)Workout:', results, re.DOTALL)\n",
    "workout_names = re.findall(r'Workout:(.*?)$', results, re.DOTALL)\n",
    "\n",
    "# Cleaning up the extracted lists\n",
    "breakfast_names = [name.strip() for name in breakfast_names[0].strip().split('\\n') if name.strip()] if breakfast_names else []\n",
    "lunch_names = [name.strip() for name in lunch_names[0].strip().split('\\n') if name.strip()] if lunch_names else []\n",
    "dinner_names = [name.strip() for name in dinner_names[0].strip().split('\\n') if name.strip()] if dinner_names else []\n",
    "workout_names = [name.strip() for name in workout_names[0].strip().split('\\n') if name.strip()] if workout_names else []\n",
    "\n",
    "# Printing the recommendations separately\n",
    "print(\"Recommended Breakfasts:\", breakfast_names)\n",
    "print(\"Recommended Lunchs:\", lunch_names)\n",
    "print(\"Recommended Dinners:\", dinner_names)\n",
    "print(\"Recommended Workouts:\", workout_names)"
   ]
  }
 ],
 "metadata": {
  "kernelspec": {
   "display_name": "Python 3 (ipykernel)",
   "language": "python",
   "name": "python3"
  },
  "language_info": {
   "codemirror_mode": {
    "name": "ipython",
    "version": 3
   },
   "file_extension": ".py",
   "mimetype": "text/x-python",
   "name": "python",
   "nbconvert_exporter": "python",
   "pygments_lexer": "ipython3",
   "version": "3.9.7"
  }
 },
 "nbformat": 4,
 "nbformat_minor": 5
}
